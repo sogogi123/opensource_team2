{
 "cells": [
  {
   "cell_type": "code",
   "execution_count": null,
   "id": "2ad6f8d0",
   "metadata": {},
   "outputs": [],
   "source": [
    "import numpy as np\n",
    "import pandas as pd\n",
    "import folium"
   ]
  },
  {
   "cell_type": "code",
   "execution_count": null,
   "id": "00856c8e",
   "metadata": {},
   "outputs": [],
   "source": []
  },
  {
   "cell_type": "code",
   "execution_count": 2,
   "id": "94ae4e3e",
   "metadata": {},
   "outputs": [
    {
     "ename": "NameError",
     "evalue": "name 'folium' is not defined",
     "output_type": "error",
     "traceback": [
      "\u001b[1;31m---------------------------------------------------------------------------\u001b[0m",
      "\u001b[1;31mNameError\u001b[0m                                 Traceback (most recent call last)",
      "\u001b[1;32m~\\AppData\\Local\\Temp/ipykernel_25956/2028714585.py\u001b[0m in \u001b[0;36m<module>\u001b[1;34m\u001b[0m\n\u001b[0;32m      1\u001b[0m \u001b[1;32mfrom\u001b[0m \u001b[0mfolium\u001b[0m\u001b[1;33m.\u001b[0m\u001b[0mfeatures\u001b[0m \u001b[1;32mimport\u001b[0m \u001b[0mCustomIcon\u001b[0m\u001b[1;33m\u001b[0m\u001b[1;33m\u001b[0m\u001b[0m\n\u001b[0;32m      2\u001b[0m \u001b[1;33m\u001b[0m\u001b[0m\n\u001b[1;32m----> 3\u001b[1;33m m = folium.Map(\n\u001b[0m\u001b[0;32m      4\u001b[0m     \u001b[0mlocation\u001b[0m \u001b[1;33m=\u001b[0m \u001b[1;33m[\u001b[0m\u001b[1;36m33.3684955195788\u001b[0m\u001b[1;33m,\u001b[0m \u001b[1;36m126.52918183373025\u001b[0m\u001b[1;33m]\u001b[0m\u001b[1;33m,\u001b[0m\u001b[1;33m\u001b[0m\u001b[1;33m\u001b[0m\u001b[0m\n\u001b[0;32m      5\u001b[0m     \u001b[0mzoom_start\u001b[0m \u001b[1;33m=\u001b[0m \u001b[1;36m10\u001b[0m\u001b[1;33m\u001b[0m\u001b[1;33m\u001b[0m\u001b[0m\n",
      "\u001b[1;31mNameError\u001b[0m: name 'folium' is not defined"
     ]
    }
   ],
   "source": [
    "from folium.features import CustomIcon\n",
    "\n",
    "m = folium.Map(\n",
    "    location = [33.3684955195788, 126.52918183373025],\n",
    "    zoom_start = 10\n",
    ")\n",
    "\n",
    "tooltip = 'Click!!'\n",
    "\n",
    "주차장유 = folium.FeatureGroup(name='주차장유').add_to(m)\n",
    "주차장무 = folium.FeatureGroup(name='주차장무').add_to(m)\n",
    "\n",
    "\n",
    "for i in range(오름.shape[0]):\n",
    "    if 오름.iloc[i][\"주차장\"] == 'Y':\n",
    "        folium.Marker(\n",
    "            [오름.iloc[i]['위도'], 오름.iloc[i]['경도']],\n",
    "            popup = f'<div style=\"width:100px\"><strong>{오름.iloc[i][\"오름명\"]}</strong><br>\\\n",
    "            주차장 : {오름.iloc[i][\"주차장\"]}<br>\\\n",
    "            화장실 : {오름.iloc[i][\"화장실\"]}<br>',\n",
    "            tooltip = tooltip\n",
    "        ).add_to(주차장유)\n",
    "    else:\n",
    "        folium.Marker(\n",
    "            [오름.iloc[i]['위도'], 오름.iloc[i]['경도']],\n",
    "            popup = f'<div style=\"width:100px\"><strong>{오름.iloc[i][\"오름명\"]}</strong><br>\\\n",
    "            주차장 : {오름.iloc[i][\"주차장\"]}<br>\\\n",
    "            화장실 : {오름.iloc[i][\"화장실\"]}<br>',\n",
    "            tooltip = tooltip\n",
    "        ).add_to(주차장무)\n",
    "\n",
    "folium.LayerControl(collapsed=False).add_to(m)\n",
    "m"
   ]
  }
 ],
 "metadata": {
  "kernelspec": {
   "display_name": "Python 3 (ipykernel)",
   "language": "python",
   "name": "python3"
  },
  "language_info": {
   "codemirror_mode": {
    "name": "ipython",
    "version": 3
   },
   "file_extension": ".py",
   "mimetype": "text/x-python",
   "name": "python",
   "nbconvert_exporter": "python",
   "pygments_lexer": "ipython3",
   "version": "3.9.7"
  }
 },
 "nbformat": 4,
 "nbformat_minor": 5
}
